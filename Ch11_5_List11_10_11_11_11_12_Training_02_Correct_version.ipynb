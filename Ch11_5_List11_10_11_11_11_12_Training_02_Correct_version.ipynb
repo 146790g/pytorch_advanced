{
  "nbformat": 4,
  "nbformat_minor": 0,
  "metadata": {
    "colab": {
      "name": "Ch11.5_List11.10_11.11_11.12_Training_02_Correct_version.ipynb",
      "provenance": [],
      "collapsed_sections": [],
      "machine_shape": "hm",
      "authorship_tag": "ABX9TyPpzILXP3kE4tUwDoJ2OTlG",
      "include_colab_link": true
    },
    "kernelspec": {
      "name": "python3",
      "display_name": "Python 3"
    },
    "language_info": {
      "name": "python"
    },
    "accelerator": "GPU"
  },
  "cells": [
    {
      "cell_type": "markdown",
      "metadata": {
        "id": "view-in-github",
        "colab_type": "text"
      },
      "source": [
        "<a href=\"https://colab.research.google.com/github/146790g/pytorch_advanced/blob/master/Ch11_5_List11_10_11_11_11_12_Training_02_Correct_version.ipynb\" target=\"_parent\"><img src=\"https://colab.research.google.com/assets/colab-badge.svg\" alt=\"Open In Colab\"/></a>"
      ]
    },
    {
      "cell_type": "code",
      "metadata": {
        "colab": {
          "base_uri": "https://localhost:8080/"
        },
        "id": "E4Wjbgfzq7DF",
        "outputId": "dd7e2248-c0c3-47ce-b182-181d04eedd36"
      },
      "source": [
        "from google.colab import drive \n",
        "drive.mount('/content/drive')"
      ],
      "execution_count": null,
      "outputs": [
        {
          "output_type": "stream",
          "name": "stdout",
          "text": [
            "Drive already mounted at /content/drive; to attempt to forcibly remount, call drive.mount(\"/content/drive\", force_remount=True).\n"
          ]
        }
      ]
    },
    {
      "cell_type": "code",
      "metadata": {
        "colab": {
          "base_uri": "https://localhost:8080/"
        },
        "id": "FtEOwQd71KzA",
        "outputId": "d9b59d74-ac2a-42db-ff2c-854127e3a90e"
      },
      "source": [
        "!pip install SimpleITK\n",
        "!pip install diskcache "
      ],
      "execution_count": null,
      "outputs": [
        {
          "output_type": "stream",
          "name": "stdout",
          "text": [
            "Requirement already satisfied: SimpleITK in /usr/local/lib/python3.7/dist-packages (2.1.1)\n",
            "Requirement already satisfied: diskcache in /usr/local/lib/python3.7/dist-packages (5.3.0)\n"
          ]
        }
      ]
    },
    {
      "cell_type": "code",
      "metadata": {
        "id": "lpeL1Rz4rFhM"
      },
      "source": [
        "import os\n",
        "os.chdir('/content/drive/MyDrive/Colab Notebooks/Pytorch CT Lung Cancer/deep-learning-with-pytorch-ja-main/p2ch11')"
      ],
      "execution_count": null,
      "outputs": []
    },
    {
      "cell_type": "markdown",
      "metadata": {
        "id": "6GO6cnHzxaH3"
      },
      "source": [
        "###Pathを通す"
      ]
    },
    {
      "cell_type": "code",
      "metadata": {
        "id": "J_J-2GZI-VZ1"
      },
      "source": [
        "import os\n",
        "import sys\n",
        "sys.path.append('/content/drive/MyDrive/Colab Notebooks/Pytorch CT Lung Cancer/deep-learning-with-pytorch-ja-main')"
      ],
      "execution_count": null,
      "outputs": []
    },
    {
      "cell_type": "markdown",
      "metadata": {
        "id": "eF_6YERvxfm6"
      },
      "source": [
        "# **①モジュールを呼び込む**"
      ]
    },
    {
      "cell_type": "code",
      "metadata": {
        "id": "-WJbmkE1hl8T"
      },
      "source": [
        "import argparse\n",
        "import datetime\n",
        "import os\n",
        "import sys\n",
        "\n",
        "import numpy as np\n",
        "\n",
        "from torch.utils.tensorboard import SummaryWriter\n",
        "\n",
        "import torch\n",
        "import torch.nn as nn\n",
        "from torch.optim import SGD, Adam\n",
        "from torch.utils.data import DataLoader\n",
        "\n",
        "from util.util import enumerateWithEstimate\n",
        "from dsets2 import LunaDataset\n",
        "from util.logconf import logging\n",
        "from model import LunaModel\n"
      ],
      "execution_count": null,
      "outputs": []
    },
    {
      "cell_type": "code",
      "metadata": {
        "id": "7n8NCLlEVnNo"
      },
      "source": [
        "#!wget -P ./data/part2/luna https://raw.githubusercontent.com/deep-learning-with-pytorch/dlwpt-code/master/data/part2/luna/annotations.csv\n",
        "#!wget -P ./data/part2/luna https://raw.githubusercontent.com/deep-learning-with-pytorch/dlwpt-code/master/data/part2/luna/candidates.csv"
      ],
      "execution_count": null,
      "outputs": []
    },
    {
      "cell_type": "markdown",
      "metadata": {
        "id": "nzu44CYNw0SK"
      },
      "source": [
        "# **①argparse.Namespaceの作成**"
      ]
    },
    {
      "cell_type": "code",
      "metadata": {
        "id": "PWC6EPD4bsTO",
        "colab": {
          "base_uri": "https://localhost:8080/"
        },
        "outputId": "3b10af92-c823-4b66-aeef-22c0c19d3f4a"
      },
      "source": [
        "import argparse\n",
        "import os\n",
        "from util import util\n",
        "import torch\n",
        "\n",
        "class BaseOptions():\n",
        "    def __init__(self):\n",
        "        self.parser = argparse.ArgumentParser()\n",
        "\n",
        "    def initialize(self):\n",
        "        self.parser.add_argument('--num-workers',\n",
        "            help='Number of worker processes for background data loading',\n",
        "            default=8,\n",
        "            type=int,\n",
        "        )\n",
        "        self.parser.add_argument('--batch-size',\n",
        "            help='Batch size to use for training',\n",
        "            default=4,\n",
        "            type=int,\n",
        "        )\n",
        "        self.parser.add_argument('--epochs',\n",
        "            help='Number of epochs to train for',\n",
        "            default=1,\n",
        "            type=int,\n",
        "        )\n",
        "\n",
        "        self.parser.add_argument('--tb-prefix',\n",
        "            default='p2ch11',\n",
        "            help=\"Data prefix to use for Tensorboard run. Defaults to chapter.\",\n",
        "        )\n",
        "\n",
        "        self.parser.add_argument('comment',\n",
        "            help=\"Comment suffix for Tensorboard run.\",\n",
        "            nargs='?',\n",
        "            default='dwlpt',\n",
        "        )\n",
        "    def parse(self):\n",
        "        self.opt = self.parser.parse_args(args=[])\n",
        "        args = vars(self.opt)\n",
        "\n",
        "        print('------------ Options -------------')\n",
        "        for k, v in sorted(args.items()):\n",
        "            print('%s: %s' % (str(k), str(v)))\n",
        "        print('-------------- End ----------------')\n",
        "        return self.opt\n",
        "\n",
        "config = BaseOptions()\n",
        "config.initialize()\n",
        "opt=config.parse()\n",
        "print(config.opt.epochs)\n",
        "print(config.opt.comment)\n",
        "print(config.opt.num_workers)"
      ],
      "execution_count": null,
      "outputs": [
        {
          "output_type": "stream",
          "name": "stdout",
          "text": [
            "------------ Options -------------\n",
            "batch_size: 4\n",
            "comment: dwlpt\n",
            "epochs: 1\n",
            "num_workers: 8\n",
            "tb_prefix: p2ch11\n",
            "-------------- End ----------------\n",
            "1\n",
            "dwlpt\n",
            "8\n"
          ]
        }
      ]
    },
    {
      "cell_type": "code",
      "metadata": {
        "colab": {
          "base_uri": "https://localhost:8080/"
        },
        "id": "H2uOiLHi_qEm",
        "outputId": "2bdccaca-1283-483c-a8ac-527fce6ba353"
      },
      "source": [
        "print(opt)"
      ],
      "execution_count": null,
      "outputs": [
        {
          "output_type": "stream",
          "name": "stdout",
          "text": [
            "Namespace(batch_size=4, comment='dwlpt', epochs=1, num_workers=8, tb_prefix='p2ch11')\n"
          ]
        }
      ]
    },
    {
      "cell_type": "markdown",
      "metadata": {
        "id": "dOs7gR1Hwrxh"
      },
      "source": [
        "# **②DataSet Class作成**"
      ]
    },
    {
      "cell_type": "code",
      "metadata": {
        "id": "FG2qIHiyyEc-"
      },
      "source": [
        "import os\n",
        "dataset = LunaDataset(\n",
        "    val_stride=10,\n",
        "    isValSet_bool=False)"
      ],
      "execution_count": null,
      "outputs": []
    },
    {
      "cell_type": "markdown",
      "metadata": {
        "id": "1wuqBv7vISdB"
      },
      "source": [
        "# **③DataLoader Class作成**"
      ]
    },
    {
      "cell_type": "code",
      "metadata": {
        "id": "ECV-HpmRCMHt"
      },
      "source": [
        "data_loader = torch.utils.data.DataLoader(\n",
        "    dataset,\n",
        "    batch_size=4,\n",
        "    num_workers=2)"
      ],
      "execution_count": null,
      "outputs": []
    },
    {
      "cell_type": "code",
      "metadata": {
        "id": "7uBIAX1OCcVd"
      },
      "source": [
        "# 動作の確認\n",
        "batch_iterator = iter(data_loader)  # イテレータに変換\n",
        "dat = next(batch_iterator)  # 1番目の要素を取り出す\n"
      ],
      "execution_count": null,
      "outputs": []
    },
    {
      "cell_type": "code",
      "metadata": {
        "colab": {
          "base_uri": "https://localhost:8080/"
        },
        "id": "FM9o-Ssx7d5C",
        "outputId": "fb5f9d37-8f63-4774-e391-90bd556bec7c"
      },
      "source": [
        "len(data_loader.dataset)"
      ],
      "execution_count": null,
      "outputs": [
        {
          "output_type": "execute_result",
          "data": {
            "text/plain": [
              "51244"
            ]
          },
          "metadata": {},
          "execution_count": 11
        }
      ]
    },
    {
      "cell_type": "code",
      "metadata": {
        "id": "LXifLJKlxuS1"
      },
      "source": [
        "#print(data_loader.num_workders)"
      ],
      "execution_count": null,
      "outputs": []
    },
    {
      "cell_type": "markdown",
      "metadata": {
        "id": "FI1WEdzBG2I7"
      },
      "source": [
        "###① candidate_t: 中身のデータ\n",
        "###② pos_t: 癌 OR Normal\n",
        "###③ candidateInfo_tup.series_uid: Series_UID\n",
        "###④ torch.tensor(center_irc): 中心座標のIRC座標"
      ]
    },
    {
      "cell_type": "markdown",
      "metadata": {
        "id": "aQnSODNiHyfj"
      },
      "source": [
        "###[32,48,48]の小さな塊の格子の中のデータ\n",
        "### dat[0]: candidate_t"
      ]
    },
    {
      "cell_type": "code",
      "metadata": {
        "colab": {
          "base_uri": "https://localhost:8080/"
        },
        "id": "LgozwcHwCrE_",
        "outputId": "e9e89dff-e326-40dd-ca4a-37587c1f343c"
      },
      "source": [
        "print(len(dat))\n",
        "print(dat[0].shape)"
      ],
      "execution_count": null,
      "outputs": [
        {
          "output_type": "stream",
          "name": "stdout",
          "text": [
            "4\n",
            "torch.Size([4, 1, 32, 48, 48])\n"
          ]
        }
      ]
    },
    {
      "cell_type": "markdown",
      "metadata": {
        "id": "932_MgK5HheT"
      },
      "source": [
        "###癌または正常の正解ラベル\n",
        "### dat[1]: post_t"
      ]
    },
    {
      "cell_type": "code",
      "metadata": {
        "colab": {
          "base_uri": "https://localhost:8080/"
        },
        "id": "KRrBnBV9HapD",
        "outputId": "dff0ddd2-1a6a-4401-a075-7284d0ef1b38"
      },
      "source": [
        "print(len(dat))\n",
        "print(dat[1].shape)\n",
        "print(dat[1])"
      ],
      "execution_count": null,
      "outputs": [
        {
          "output_type": "stream",
          "name": "stdout",
          "text": [
            "4\n",
            "torch.Size([4, 2])\n",
            "tensor([[1, 0],\n",
            "        [1, 0],\n",
            "        [1, 0],\n",
            "        [1, 0]])\n"
          ]
        }
      ]
    },
    {
      "cell_type": "markdown",
      "metadata": {
        "id": "2rfD-1cpH-zW"
      },
      "source": [
        "###Series_UID\n",
        "###dat[2]: user_id"
      ]
    },
    {
      "cell_type": "code",
      "metadata": {
        "colab": {
          "base_uri": "https://localhost:8080/"
        },
        "id": "sbbC6a6yHlmP",
        "outputId": "2a439f3d-4ca4-4389-fe02-0fdf357f00f7"
      },
      "source": [
        "print(len(dat))\n",
        "print(dat[2])\n"
      ],
      "execution_count": null,
      "outputs": [
        {
          "output_type": "stream",
          "name": "stdout",
          "text": [
            "4\n",
            "('1.3.6.1.4.1.14519.5.2.1.6279.6001.216882370221919561230873289517', '1.3.6.1.4.1.14519.5.2.1.6279.6001.724251104254976962355686318345', '1.3.6.1.4.1.14519.5.2.1.6279.6001.138080888843357047811238713686', '1.3.6.1.4.1.14519.5.2.1.6279.6001.525937963993475482158828421281')\n"
          ]
        }
      ]
    },
    {
      "cell_type": "markdown",
      "metadata": {
        "id": "5RtUerSPIBBT"
      },
      "source": [
        "###中心のIRC座標\n",
        "### dat[3]: center_irc"
      ]
    },
    {
      "cell_type": "code",
      "metadata": {
        "colab": {
          "base_uri": "https://localhost:8080/"
        },
        "id": "lcuMmEC7Hs71",
        "outputId": "5e6fd96f-0b17-4c2f-bea6-6f458a077fa6"
      },
      "source": [
        "print(dat[3])"
      ],
      "execution_count": null,
      "outputs": [
        {
          "output_type": "stream",
          "name": "stdout",
          "text": [
            "tensor([[229, 272, 370],\n",
            "        [179, 322, 189],\n",
            "        [182, 269, 329],\n",
            "        [342, 284, 238]])\n"
          ]
        }
      ]
    },
    {
      "cell_type": "markdown",
      "metadata": {
        "id": "MnFT6-K9Yq7G"
      },
      "source": [
        "#END"
      ]
    }
  ]
}