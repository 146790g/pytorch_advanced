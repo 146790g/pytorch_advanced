{
 "cells": [
  {
   "cell_type": "code",
   "execution_count": 4,
   "metadata": {},
   "outputs": [
    {
     "name": "stdout",
     "output_type": "stream",
     "text": [
      "/tmp/kinetics/e9b75c38-2f85-4a73-9b37-4e814d3d87c3.%(ext)s\n",
      "/tmp/kinetics/12609a82-7087-46f4-9a1c-0ff9347d815d.%(ext)s\n",
      "/tmp/kinetics/5f4fa904-af9d-4361-a35b-60d0a6f8be59.%(ext)s\n",
      "/tmp/kinetics/eff585b2-7a5e-4619-ba1c-11ce1900e304.%(ext)s\n",
      "/tmp/kinetics/86183e19-4e50-4a9f-9542-1e4266be7f29.%(ext)s\n"
     ]
    }
   ],
   "source": [
    "# Python2系なので新しい仮想環境を作成\n",
    "# conda env create -f environment.yml\n",
    "# source activate kinetics\n",
    "# pip install --upgrade youtube-dl\n",
    "# jupyter notebook --port 9999\n",
    "\n",
    "!python download.py kinetics-400_val4.csv ../data/kinetics_videos/"
   ]
  },
  {
   "cell_type": "code",
   "execution_count": null,
   "metadata": {},
   "outputs": [],
   "source": []
  }
 ],
 "metadata": {
  "kernelspec": {
   "display_name": "Python 3",
   "language": "python",
   "name": "python3"
  },
  "language_info": {
   "codemirror_mode": {
    "name": "ipython",
    "version": 3
   },
   "file_extension": ".py",
   "mimetype": "text/x-python",
   "name": "python",
   "nbconvert_exporter": "python",
   "pygments_lexer": "ipython3",
   "version": "3.6.5"
  }
 },
 "nbformat": 4,
 "nbformat_minor": 2
}
