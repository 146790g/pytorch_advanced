{
  "nbformat": 4,
  "nbformat_minor": 0,
  "metadata": {
    "colab": {
      "name": "Ch11.5_List11.10_11.11_11.12_Training_02_Error_version.ipynb",
      "provenance": [],
      "collapsed_sections": [],
      "machine_shape": "hm",
      "authorship_tag": "ABX9TyNxl1Z15a20kD14AEQmqtEb",
      "include_colab_link": true
    },
    "kernelspec": {
      "name": "python3",
      "display_name": "Python 3"
    },
    "language_info": {
      "name": "python"
    },
    "accelerator": "GPU"
  },
  "cells": [
    {
      "cell_type": "markdown",
      "metadata": {
        "id": "view-in-github",
        "colab_type": "text"
      },
      "source": [
        "<a href=\"https://colab.research.google.com/github/146790g/pytorch_advanced/blob/master/Ch11_5_List11_10_11_11_11_12_Training_02_Error_version.ipynb\" target=\"_parent\"><img src=\"https://colab.research.google.com/assets/colab-badge.svg\" alt=\"Open In Colab\"/></a>"
      ]
    },
    {
      "cell_type": "code",
      "metadata": {
        "colab": {
          "base_uri": "https://localhost:8080/"
        },
        "id": "E4Wjbgfzq7DF",
        "outputId": "cf3306b0-0f53-47ba-affa-4db0e2747257"
      },
      "source": [
        "from google.colab import drive \n",
        "drive.mount('/content/drive')"
      ],
      "execution_count": null,
      "outputs": [
        {
          "output_type": "stream",
          "name": "stdout",
          "text": [
            "Mounted at /content/drive\n"
          ]
        }
      ]
    },
    {
      "cell_type": "code",
      "metadata": {
        "colab": {
          "base_uri": "https://localhost:8080/"
        },
        "id": "FtEOwQd71KzA",
        "outputId": "ab711075-5fc7-4c18-8cc6-dc99be620eba"
      },
      "source": [
        "!pip install SimpleITK\n",
        "!pip install diskcache "
      ],
      "execution_count": null,
      "outputs": [
        {
          "output_type": "stream",
          "name": "stdout",
          "text": [
            "Collecting SimpleITK\n",
            "  Downloading SimpleITK-2.1.1-cp37-cp37m-manylinux_2_12_x86_64.manylinux2010_x86_64.whl (48.4 MB)\n",
            "\u001b[K     |████████████████████████████████| 48.4 MB 46.4 MB/s \n",
            "\u001b[?25hInstalling collected packages: SimpleITK\n",
            "Successfully installed SimpleITK-2.1.1\n",
            "Collecting diskcache\n",
            "  Downloading diskcache-5.3.0-py3-none-any.whl (44 kB)\n",
            "\u001b[K     |████████████████████████████████| 44 kB 2.3 MB/s \n",
            "\u001b[?25hInstalling collected packages: diskcache\n",
            "Successfully installed diskcache-5.3.0\n"
          ]
        }
      ]
    },
    {
      "cell_type": "code",
      "metadata": {
        "id": "lpeL1Rz4rFhM"
      },
      "source": [
        "import os\n",
        "os.chdir('/content/drive/MyDrive/Colab Notebooks/Pytorch CT Lung Cancer/deep-learning-with-pytorch-ja-main/p2ch11')"
      ],
      "execution_count": null,
      "outputs": []
    },
    {
      "cell_type": "markdown",
      "metadata": {
        "id": "6GO6cnHzxaH3"
      },
      "source": [
        "###Pathを通す"
      ]
    },
    {
      "cell_type": "code",
      "metadata": {
        "id": "J_J-2GZI-VZ1"
      },
      "source": [
        "import os\n",
        "import sys\n",
        "sys.path.append('/content/drive/MyDrive/Colab Notebooks/Pytorch CT Lung Cancer/deep-learning-with-pytorch-ja-main')"
      ],
      "execution_count": null,
      "outputs": []
    },
    {
      "cell_type": "markdown",
      "metadata": {
        "id": "eF_6YERvxfm6"
      },
      "source": [
        "# **①モジュールを呼び込む**"
      ]
    },
    {
      "cell_type": "code",
      "metadata": {
        "id": "-WJbmkE1hl8T",
        "colab": {
          "base_uri": "https://localhost:8080/",
          "height": 395
        },
        "outputId": "d40c09dd-6d42-48cf-cbd3-96917c57ed6b"
      },
      "source": [
        "import argparse\n",
        "import datetime\n",
        "import os\n",
        "import sys\n",
        "\n",
        "import numpy as np\n",
        "\n",
        "from torch.utils.tensorboard import SummaryWriter\n",
        "\n",
        "import torch\n",
        "import torch.nn as nn\n",
        "from torch.optim import SGD, Adam\n",
        "from torch.utils.data import DataLoader\n",
        "\n",
        "from util.util import enumerateWithEstimate\n",
        "from dsets import LunaDataset\n",
        "from util.logconf import logging\n",
        "from model import LunaModel\n"
      ],
      "execution_count": null,
      "outputs": [
        {
          "output_type": "error",
          "ename": "DatabaseError",
          "evalue": "ignored",
          "traceback": [
            "\u001b[0;31m---------------------------------------------------------------------------\u001b[0m",
            "\u001b[0;31mDatabaseError\u001b[0m                             Traceback (most recent call last)",
            "\u001b[0;32m<ipython-input-5-8fc6feb2574c>\u001b[0m in \u001b[0;36m<module>\u001b[0;34m()\u001b[0m\n\u001b[1;32m     14\u001b[0m \u001b[0;34m\u001b[0m\u001b[0m\n\u001b[1;32m     15\u001b[0m \u001b[0;32mfrom\u001b[0m \u001b[0mutil\u001b[0m\u001b[0;34m.\u001b[0m\u001b[0mutil\u001b[0m \u001b[0;32mimport\u001b[0m \u001b[0menumerateWithEstimate\u001b[0m\u001b[0;34m\u001b[0m\u001b[0;34m\u001b[0m\u001b[0m\n\u001b[0;32m---> 16\u001b[0;31m \u001b[0;32mfrom\u001b[0m \u001b[0mdsets\u001b[0m \u001b[0;32mimport\u001b[0m \u001b[0mLunaDataset\u001b[0m\u001b[0;34m\u001b[0m\u001b[0;34m\u001b[0m\u001b[0m\n\u001b[0m\u001b[1;32m     17\u001b[0m \u001b[0;32mfrom\u001b[0m \u001b[0mutil\u001b[0m\u001b[0;34m.\u001b[0m\u001b[0mlogconf\u001b[0m \u001b[0;32mimport\u001b[0m \u001b[0mlogging\u001b[0m\u001b[0;34m\u001b[0m\u001b[0;34m\u001b[0m\u001b[0m\n\u001b[1;32m     18\u001b[0m \u001b[0;32mfrom\u001b[0m \u001b[0mmodel\u001b[0m \u001b[0;32mimport\u001b[0m \u001b[0mLunaModel\u001b[0m\u001b[0;34m\u001b[0m\u001b[0;34m\u001b[0m\u001b[0m\n",
            "\u001b[0;32m/content/drive/MyDrive/Colab Notebooks/Pytorch CT Lung Cancer/deep-learning-with-pytorch-ja-main/p2ch11/dsets.py\u001b[0m in \u001b[0;36m<module>\u001b[0;34m()\u001b[0m\n\u001b[1;32m     26\u001b[0m \u001b[0;34m\u001b[0m\u001b[0m\n\u001b[1;32m     27\u001b[0m \u001b[0;34m\u001b[0m\u001b[0m\n\u001b[0;32m---> 28\u001b[0;31m \u001b[0mraw_cache\u001b[0m \u001b[0;34m=\u001b[0m \u001b[0mgetCache\u001b[0m\u001b[0;34m(\u001b[0m\u001b[0;34m'part2ch11_raw'\u001b[0m\u001b[0;34m)\u001b[0m\u001b[0;34m\u001b[0m\u001b[0;34m\u001b[0m\u001b[0m\n\u001b[0m\u001b[1;32m     29\u001b[0m \u001b[0;34m\u001b[0m\u001b[0m\n\u001b[1;32m     30\u001b[0m CandidateInfoTuple = namedtuple(\n",
            "\u001b[0;32m/content/drive/MyDrive/Colab Notebooks/Pytorch CT Lung Cancer/deep-learning-with-pytorch-ja-main/util/disk.py\u001b[0m in \u001b[0;36mgetCache\u001b[0;34m(scope_str)\u001b[0m\n\u001b[1;32m     88\u001b[0m         \u001b[0mshards\u001b[0m\u001b[0;34m=\u001b[0m\u001b[0;36m64\u001b[0m\u001b[0;34m,\u001b[0m\u001b[0;34m\u001b[0m\u001b[0;34m\u001b[0m\u001b[0m\n\u001b[1;32m     89\u001b[0m         \u001b[0mtimeout\u001b[0m\u001b[0;34m=\u001b[0m\u001b[0;36m1\u001b[0m\u001b[0;34m,\u001b[0m\u001b[0;34m\u001b[0m\u001b[0;34m\u001b[0m\u001b[0m\n\u001b[0;32m---> 90\u001b[0;31m         \u001b[0msize_limit\u001b[0m\u001b[0;34m=\u001b[0m\u001b[0;36m3e11\u001b[0m\u001b[0;34m,\u001b[0m\u001b[0;34m\u001b[0m\u001b[0;34m\u001b[0m\u001b[0m\n\u001b[0m\u001b[1;32m     91\u001b[0m         \u001b[0;31m# disk_min_file_size=2**20,\u001b[0m\u001b[0;34m\u001b[0m\u001b[0;34m\u001b[0m\u001b[0;34m\u001b[0m\u001b[0m\n\u001b[1;32m     92\u001b[0m     )\n",
            "\u001b[0;32m/usr/local/lib/python3.7/dist-packages/diskcache/fanout.py\u001b[0m in \u001b[0;36m__init__\u001b[0;34m(self, directory, shards, timeout, disk, **settings)\u001b[0m\n\u001b[1;32m     48\u001b[0m                 \u001b[0;34m**\u001b[0m\u001b[0msettings\u001b[0m\u001b[0;34m\u001b[0m\u001b[0;34m\u001b[0m\u001b[0m\n\u001b[1;32m     49\u001b[0m             )\n\u001b[0;32m---> 50\u001b[0;31m             \u001b[0;32mfor\u001b[0m \u001b[0mnum\u001b[0m \u001b[0;32min\u001b[0m \u001b[0mrange\u001b[0m\u001b[0;34m(\u001b[0m\u001b[0mshards\u001b[0m\u001b[0;34m)\u001b[0m\u001b[0;34m\u001b[0m\u001b[0;34m\u001b[0m\u001b[0m\n\u001b[0m\u001b[1;32m     51\u001b[0m         )\n\u001b[1;32m     52\u001b[0m         \u001b[0mself\u001b[0m\u001b[0;34m.\u001b[0m\u001b[0m_hash\u001b[0m \u001b[0;34m=\u001b[0m \u001b[0mself\u001b[0m\u001b[0;34m.\u001b[0m\u001b[0m_shards\u001b[0m\u001b[0;34m[\u001b[0m\u001b[0;36m0\u001b[0m\u001b[0;34m]\u001b[0m\u001b[0;34m.\u001b[0m\u001b[0mdisk\u001b[0m\u001b[0;34m.\u001b[0m\u001b[0mhash\u001b[0m\u001b[0;34m\u001b[0m\u001b[0;34m\u001b[0m\u001b[0m\n",
            "\u001b[0;32m/usr/local/lib/python3.7/dist-packages/diskcache/fanout.py\u001b[0m in \u001b[0;36m<genexpr>\u001b[0;34m(.0)\u001b[0m\n\u001b[1;32m     48\u001b[0m                 \u001b[0;34m**\u001b[0m\u001b[0msettings\u001b[0m\u001b[0;34m\u001b[0m\u001b[0;34m\u001b[0m\u001b[0m\n\u001b[1;32m     49\u001b[0m             )\n\u001b[0;32m---> 50\u001b[0;31m             \u001b[0;32mfor\u001b[0m \u001b[0mnum\u001b[0m \u001b[0;32min\u001b[0m \u001b[0mrange\u001b[0m\u001b[0;34m(\u001b[0m\u001b[0mshards\u001b[0m\u001b[0;34m)\u001b[0m\u001b[0;34m\u001b[0m\u001b[0;34m\u001b[0m\u001b[0m\n\u001b[0m\u001b[1;32m     51\u001b[0m         )\n\u001b[1;32m     52\u001b[0m         \u001b[0mself\u001b[0m\u001b[0;34m.\u001b[0m\u001b[0m_hash\u001b[0m \u001b[0;34m=\u001b[0m \u001b[0mself\u001b[0m\u001b[0;34m.\u001b[0m\u001b[0m_shards\u001b[0m\u001b[0;34m[\u001b[0m\u001b[0;36m0\u001b[0m\u001b[0;34m]\u001b[0m\u001b[0;34m.\u001b[0m\u001b[0mdisk\u001b[0m\u001b[0;34m.\u001b[0m\u001b[0mhash\u001b[0m\u001b[0;34m\u001b[0m\u001b[0;34m\u001b[0m\u001b[0m\n",
            "\u001b[0;32m/usr/local/lib/python3.7/dist-packages/diskcache/core.py\u001b[0m in \u001b[0;36m__init__\u001b[0;34m(self, directory, timeout, disk, **settings)\u001b[0m\n\u001b[1;32m    454\u001b[0m                     ) from None\n\u001b[1;32m    455\u001b[0m \u001b[0;34m\u001b[0m\u001b[0m\n\u001b[0;32m--> 456\u001b[0;31m         \u001b[0msql\u001b[0m \u001b[0;34m=\u001b[0m \u001b[0mself\u001b[0m\u001b[0;34m.\u001b[0m\u001b[0m_sql_retry\u001b[0m\u001b[0;34m\u001b[0m\u001b[0;34m\u001b[0m\u001b[0m\n\u001b[0m\u001b[1;32m    457\u001b[0m \u001b[0;34m\u001b[0m\u001b[0m\n\u001b[1;32m    458\u001b[0m         \u001b[0;31m# Setup Settings table.\u001b[0m\u001b[0;34m\u001b[0m\u001b[0;34m\u001b[0m\u001b[0;34m\u001b[0m\u001b[0m\n",
            "\u001b[0;32m/usr/local/lib/python3.7/dist-packages/diskcache/core.py\u001b[0m in \u001b[0;36m_sql_retry\u001b[0;34m(self)\u001b[0m\n\u001b[1;32m    650\u001b[0m     \u001b[0;34m@\u001b[0m\u001b[0mproperty\u001b[0m\u001b[0;34m\u001b[0m\u001b[0;34m\u001b[0m\u001b[0m\n\u001b[1;32m    651\u001b[0m     \u001b[0;32mdef\u001b[0m \u001b[0m_sql_retry\u001b[0m\u001b[0;34m(\u001b[0m\u001b[0mself\u001b[0m\u001b[0;34m)\u001b[0m\u001b[0;34m:\u001b[0m\u001b[0;34m\u001b[0m\u001b[0;34m\u001b[0m\u001b[0m\n\u001b[0;32m--> 652\u001b[0;31m         \u001b[0msql\u001b[0m \u001b[0;34m=\u001b[0m \u001b[0mself\u001b[0m\u001b[0;34m.\u001b[0m\u001b[0m_sql\u001b[0m\u001b[0;34m\u001b[0m\u001b[0;34m\u001b[0m\u001b[0m\n\u001b[0m\u001b[1;32m    653\u001b[0m \u001b[0;34m\u001b[0m\u001b[0m\n\u001b[1;32m    654\u001b[0m         \u001b[0;31m# 2018-11-01 GrantJ - Some SQLite builds/versions handle\u001b[0m\u001b[0;34m\u001b[0m\u001b[0;34m\u001b[0m\u001b[0;34m\u001b[0m\u001b[0m\n",
            "\u001b[0;32m/usr/local/lib/python3.7/dist-packages/diskcache/core.py\u001b[0m in \u001b[0;36m_sql\u001b[0;34m(self)\u001b[0m\n\u001b[1;32m    646\u001b[0m     \u001b[0;34m@\u001b[0m\u001b[0mproperty\u001b[0m\u001b[0;34m\u001b[0m\u001b[0;34m\u001b[0m\u001b[0m\n\u001b[1;32m    647\u001b[0m     \u001b[0;32mdef\u001b[0m \u001b[0m_sql\u001b[0m\u001b[0;34m(\u001b[0m\u001b[0mself\u001b[0m\u001b[0;34m)\u001b[0m\u001b[0;34m:\u001b[0m\u001b[0;34m\u001b[0m\u001b[0;34m\u001b[0m\u001b[0m\n\u001b[0;32m--> 648\u001b[0;31m         \u001b[0;32mreturn\u001b[0m \u001b[0mself\u001b[0m\u001b[0;34m.\u001b[0m\u001b[0m_con\u001b[0m\u001b[0;34m.\u001b[0m\u001b[0mexecute\u001b[0m\u001b[0;34m\u001b[0m\u001b[0;34m\u001b[0m\u001b[0m\n\u001b[0m\u001b[1;32m    649\u001b[0m \u001b[0;34m\u001b[0m\u001b[0m\n\u001b[1;32m    650\u001b[0m     \u001b[0;34m@\u001b[0m\u001b[0mproperty\u001b[0m\u001b[0;34m\u001b[0m\u001b[0;34m\u001b[0m\u001b[0m\n",
            "\u001b[0;32m/usr/local/lib/python3.7/dist-packages/diskcache/core.py\u001b[0m in \u001b[0;36m_con\u001b[0;34m(self)\u001b[0m\n\u001b[1;32m    634\u001b[0m             \u001b[0;32mtry\u001b[0m\u001b[0;34m:\u001b[0m\u001b[0;34m\u001b[0m\u001b[0;34m\u001b[0m\u001b[0m\n\u001b[1;32m    635\u001b[0m                 \u001b[0mselect\u001b[0m \u001b[0;34m=\u001b[0m \u001b[0;34m'SELECT key, value FROM Settings'\u001b[0m\u001b[0;34m\u001b[0m\u001b[0;34m\u001b[0m\u001b[0m\n\u001b[0;32m--> 636\u001b[0;31m                 \u001b[0msettings\u001b[0m \u001b[0;34m=\u001b[0m \u001b[0mcon\u001b[0m\u001b[0;34m.\u001b[0m\u001b[0mexecute\u001b[0m\u001b[0;34m(\u001b[0m\u001b[0mselect\u001b[0m\u001b[0;34m)\u001b[0m\u001b[0;34m.\u001b[0m\u001b[0mfetchall\u001b[0m\u001b[0;34m(\u001b[0m\u001b[0;34m)\u001b[0m\u001b[0;34m\u001b[0m\u001b[0;34m\u001b[0m\u001b[0m\n\u001b[0m\u001b[1;32m    637\u001b[0m             \u001b[0;32mexcept\u001b[0m \u001b[0msqlite3\u001b[0m\u001b[0;34m.\u001b[0m\u001b[0mOperationalError\u001b[0m\u001b[0;34m:\u001b[0m\u001b[0;34m\u001b[0m\u001b[0;34m\u001b[0m\u001b[0m\n\u001b[1;32m    638\u001b[0m                 \u001b[0;32mpass\u001b[0m\u001b[0;34m\u001b[0m\u001b[0;34m\u001b[0m\u001b[0m\n",
            "\u001b[0;31mDatabaseError\u001b[0m: database disk image is malformed"
          ]
        }
      ]
    },
    {
      "cell_type": "code",
      "metadata": {
        "id": "7n8NCLlEVnNo"
      },
      "source": [
        "#!wget -P ./data/part2/luna https://raw.githubusercontent.com/deep-learning-with-pytorch/dlwpt-code/master/data/part2/luna/annotations.csv\n",
        "#!wget -P ./data/part2/luna https://raw.githubusercontent.com/deep-learning-with-pytorch/dlwpt-code/master/data/part2/luna/candidates.csv"
      ],
      "execution_count": null,
      "outputs": []
    },
    {
      "cell_type": "markdown",
      "metadata": {
        "id": "nzu44CYNw0SK"
      },
      "source": [
        "# **①argparse.Namespaceの作成**"
      ]
    },
    {
      "cell_type": "code",
      "metadata": {
        "id": "PWC6EPD4bsTO",
        "colab": {
          "base_uri": "https://localhost:8080/"
        },
        "outputId": "3b10af92-c823-4b66-aeef-22c0c19d3f4a"
      },
      "source": [
        "import argparse\n",
        "import os\n",
        "from util import util\n",
        "import torch\n",
        "\n",
        "class BaseOptions():\n",
        "    def __init__(self):\n",
        "        self.parser = argparse.ArgumentParser()\n",
        "\n",
        "    def initialize(self):\n",
        "        self.parser.add_argument('--num-workers',\n",
        "            help='Number of worker processes for background data loading',\n",
        "            default=8,\n",
        "            type=int,\n",
        "        )\n",
        "        self.parser.add_argument('--batch-size',\n",
        "            help='Batch size to use for training',\n",
        "            default=4,\n",
        "            type=int,\n",
        "        )\n",
        "        self.parser.add_argument('--epochs',\n",
        "            help='Number of epochs to train for',\n",
        "            default=1,\n",
        "            type=int,\n",
        "        )\n",
        "\n",
        "        self.parser.add_argument('--tb-prefix',\n",
        "            default='p2ch11',\n",
        "            help=\"Data prefix to use for Tensorboard run. Defaults to chapter.\",\n",
        "        )\n",
        "\n",
        "        self.parser.add_argument('comment',\n",
        "            help=\"Comment suffix for Tensorboard run.\",\n",
        "            nargs='?',\n",
        "            default='dwlpt',\n",
        "        )\n",
        "    def parse(self):\n",
        "        self.opt = self.parser.parse_args(args=[])\n",
        "        args = vars(self.opt)\n",
        "\n",
        "        print('------------ Options -------------')\n",
        "        for k, v in sorted(args.items()):\n",
        "            print('%s: %s' % (str(k), str(v)))\n",
        "        print('-------------- End ----------------')\n",
        "        return self.opt\n",
        "\n",
        "config = BaseOptions()\n",
        "config.initialize()\n",
        "opt=config.parse()\n",
        "print(config.opt.epochs)\n",
        "print(config.opt.comment)\n",
        "print(config.opt.num_workers)"
      ],
      "execution_count": null,
      "outputs": [
        {
          "output_type": "stream",
          "name": "stdout",
          "text": [
            "------------ Options -------------\n",
            "batch_size: 4\n",
            "comment: dwlpt\n",
            "epochs: 1\n",
            "num_workers: 8\n",
            "tb_prefix: p2ch11\n",
            "-------------- End ----------------\n",
            "1\n",
            "dwlpt\n",
            "8\n"
          ]
        }
      ]
    },
    {
      "cell_type": "code",
      "metadata": {
        "colab": {
          "base_uri": "https://localhost:8080/"
        },
        "id": "H2uOiLHi_qEm",
        "outputId": "2bdccaca-1283-483c-a8ac-527fce6ba353"
      },
      "source": [
        "print(opt)"
      ],
      "execution_count": null,
      "outputs": [
        {
          "output_type": "stream",
          "name": "stdout",
          "text": [
            "Namespace(batch_size=4, comment='dwlpt', epochs=1, num_workers=8, tb_prefix='p2ch11')\n"
          ]
        }
      ]
    },
    {
      "cell_type": "markdown",
      "metadata": {
        "id": "dOs7gR1Hwrxh"
      },
      "source": [
        "# **②DataSet Class作成**"
      ]
    },
    {
      "cell_type": "code",
      "metadata": {
        "id": "FG2qIHiyyEc-"
      },
      "source": [
        "import os\n",
        "dataset = LunaDataset(\n",
        "    val_stride=10,\n",
        "    isValSet_bool=False)"
      ],
      "execution_count": null,
      "outputs": []
    },
    {
      "cell_type": "markdown",
      "metadata": {
        "id": "1wuqBv7vISdB"
      },
      "source": [
        "# **③DataLoader Class作成**"
      ]
    },
    {
      "cell_type": "code",
      "metadata": {
        "id": "ECV-HpmRCMHt"
      },
      "source": [
        "data_loader = torch.utils.data.DataLoader(\n",
        "    dataset,\n",
        "    batch_size=4,\n",
        "    num_workers=2)"
      ],
      "execution_count": null,
      "outputs": []
    },
    {
      "cell_type": "code",
      "metadata": {
        "id": "7uBIAX1OCcVd"
      },
      "source": [
        "# 動作の確認\n",
        "batch_iterator = iter(data_loader)  # イテレータに変換\n",
        "dat = next(batch_iterator)  # 1番目の要素を取り出す\n"
      ],
      "execution_count": null,
      "outputs": []
    },
    {
      "cell_type": "code",
      "metadata": {
        "colab": {
          "base_uri": "https://localhost:8080/"
        },
        "id": "FM9o-Ssx7d5C",
        "outputId": "fb5f9d37-8f63-4774-e391-90bd556bec7c"
      },
      "source": [
        "len(data_loader.dataset)"
      ],
      "execution_count": null,
      "outputs": [
        {
          "output_type": "execute_result",
          "data": {
            "text/plain": [
              "51244"
            ]
          },
          "metadata": {},
          "execution_count": 11
        }
      ]
    },
    {
      "cell_type": "code",
      "metadata": {
        "id": "LXifLJKlxuS1"
      },
      "source": [
        "#print(data_loader.num_workders)"
      ],
      "execution_count": null,
      "outputs": []
    },
    {
      "cell_type": "markdown",
      "metadata": {
        "id": "FI1WEdzBG2I7"
      },
      "source": [
        "###① candidate_t: 中身のデータ\n",
        "###② pos_t: 癌 OR Normal\n",
        "###③ candidateInfo_tup.series_uid: Series_UID\n",
        "###④ torch.tensor(center_irc): 中心座標のIRC座標"
      ]
    },
    {
      "cell_type": "markdown",
      "metadata": {
        "id": "aQnSODNiHyfj"
      },
      "source": [
        "###[32,48,48]の小さな塊の格子の中のデータ\n",
        "### dat[0]: candidate_t"
      ]
    },
    {
      "cell_type": "code",
      "metadata": {
        "colab": {
          "base_uri": "https://localhost:8080/"
        },
        "id": "LgozwcHwCrE_",
        "outputId": "e9e89dff-e326-40dd-ca4a-37587c1f343c"
      },
      "source": [
        "print(len(dat))\n",
        "print(dat[0].shape)"
      ],
      "execution_count": null,
      "outputs": [
        {
          "output_type": "stream",
          "name": "stdout",
          "text": [
            "4\n",
            "torch.Size([4, 1, 32, 48, 48])\n"
          ]
        }
      ]
    },
    {
      "cell_type": "markdown",
      "metadata": {
        "id": "932_MgK5HheT"
      },
      "source": [
        "###癌または正常の正解ラベル\n",
        "### dat[1]: post_t"
      ]
    },
    {
      "cell_type": "code",
      "metadata": {
        "colab": {
          "base_uri": "https://localhost:8080/"
        },
        "id": "KRrBnBV9HapD",
        "outputId": "dff0ddd2-1a6a-4401-a075-7284d0ef1b38"
      },
      "source": [
        "print(len(dat))\n",
        "print(dat[1].shape)\n",
        "print(dat[1])"
      ],
      "execution_count": null,
      "outputs": [
        {
          "output_type": "stream",
          "name": "stdout",
          "text": [
            "4\n",
            "torch.Size([4, 2])\n",
            "tensor([[1, 0],\n",
            "        [1, 0],\n",
            "        [1, 0],\n",
            "        [1, 0]])\n"
          ]
        }
      ]
    },
    {
      "cell_type": "markdown",
      "metadata": {
        "id": "2rfD-1cpH-zW"
      },
      "source": [
        "###Series_UID\n",
        "###dat[2]: user_id"
      ]
    },
    {
      "cell_type": "code",
      "metadata": {
        "colab": {
          "base_uri": "https://localhost:8080/"
        },
        "id": "sbbC6a6yHlmP",
        "outputId": "2a439f3d-4ca4-4389-fe02-0fdf357f00f7"
      },
      "source": [
        "print(len(dat))\n",
        "print(dat[2])\n"
      ],
      "execution_count": null,
      "outputs": [
        {
          "output_type": "stream",
          "name": "stdout",
          "text": [
            "4\n",
            "('1.3.6.1.4.1.14519.5.2.1.6279.6001.216882370221919561230873289517', '1.3.6.1.4.1.14519.5.2.1.6279.6001.724251104254976962355686318345', '1.3.6.1.4.1.14519.5.2.1.6279.6001.138080888843357047811238713686', '1.3.6.1.4.1.14519.5.2.1.6279.6001.525937963993475482158828421281')\n"
          ]
        }
      ]
    },
    {
      "cell_type": "markdown",
      "metadata": {
        "id": "5RtUerSPIBBT"
      },
      "source": [
        "###中心のIRC座標\n",
        "### dat[3]: center_irc"
      ]
    },
    {
      "cell_type": "code",
      "metadata": {
        "colab": {
          "base_uri": "https://localhost:8080/"
        },
        "id": "lcuMmEC7Hs71",
        "outputId": "5e6fd96f-0b17-4c2f-bea6-6f458a077fa6"
      },
      "source": [
        "print(dat[3])"
      ],
      "execution_count": null,
      "outputs": [
        {
          "output_type": "stream",
          "name": "stdout",
          "text": [
            "tensor([[229, 272, 370],\n",
            "        [179, 322, 189],\n",
            "        [182, 269, 329],\n",
            "        [342, 284, 238]])\n"
          ]
        }
      ]
    },
    {
      "cell_type": "markdown",
      "metadata": {
        "id": "MnFT6-K9Yq7G"
      },
      "source": [
        "#END"
      ]
    }
  ]
}